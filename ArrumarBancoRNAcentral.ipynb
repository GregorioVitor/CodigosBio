{
 "cells": [
  {
   "cell_type": "code",
   "execution_count": 1,
   "id": "a4f5d10a",
   "metadata": {},
   "outputs": [],
   "source": [
    "from Bio import SeqIO\n",
    "from Bio.SeqRecord import SeqRecord"
   ]
  },
  {
   "cell_type": "code",
   "execution_count": 2,
   "id": "0d6d0c02",
   "metadata": {},
   "outputs": [],
   "source": [
    "def eliminar_secuencias_por_id(archivo_entrada, archivo_salida, ids_a_eliminar):\n",
    "    # Lista para almacenar las secuencias que no se eliminarán\n",
    "    secuencias_validas = []\n",
    "    # Leer el archivo FASTA y guardar las secuencias que no están en ids_a_eliminar\n",
    "    for record in SeqIO.parse(archivo_entrada, \"fasta\"):\n",
    "        if record.id not in ids_a_eliminar:\n",
    "            secuencias_validas.append(record)\n",
    "    # Escribir las secuencias válidas en el archivo de salida\n",
    "    with open(archivo_salida, \"w\") as output_handle:\n",
    "        SeqIO.write(secuencias_validas, output_handle, \"fasta\")\n",
    "\n"
   ]
  },
  {
   "cell_type": "code",
   "execution_count": null,
   "id": "9928f645",
   "metadata": {},
   "outputs": [],
   "source": [
    "# Ejemplo de uso\n",
    "archivo_entrada = 'entrada.fasta'\n",
    "archivo_salida = 'salida.fasta'\n",
    "ids_a_eliminar = ['ID1', 'ID3']  # Lista de IDs que quieres eliminar\n",
    "\n",
    "eliminar_secuencias_por_id(archivo_entrada, archivo_salida, ids_a_eliminar)"
   ]
  }
 ],
 "metadata": {
  "kernelspec": {
   "display_name": "Python 3 (ipykernel)",
   "language": "python",
   "name": "python3"
  },
  "language_info": {
   "codemirror_mode": {
    "name": "ipython",
    "version": 3
   },
   "file_extension": ".py",
   "mimetype": "text/x-python",
   "name": "python",
   "nbconvert_exporter": "python",
   "pygments_lexer": "ipython3",
   "version": "3.9.13"
  }
 },
 "nbformat": 4,
 "nbformat_minor": 5
}
